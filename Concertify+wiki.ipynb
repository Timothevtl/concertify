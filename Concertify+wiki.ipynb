{
 "cells": [
  {
   "cell_type": "markdown",
   "id": "014e23a0",
   "metadata": {},
   "source": [
    "# Importing Libraries"
   ]
  },
  {
   "cell_type": "code",
   "execution_count": 2,
   "id": "881ed184",
   "metadata": {},
   "outputs": [
    {
     "name": "stdout",
     "output_type": "stream",
     "text": [
      "Requirement already satisfied: requests in c:\\users\\annaz\\anaconda3\\lib\\site-packages (2.27.1)\n",
      "Requirement already satisfied: beautifulsoup4 in c:\\users\\annaz\\anaconda3\\lib\\site-packages (4.11.1)\n",
      "Collecting folium\n",
      "  Downloading folium-0.15.1-py2.py3-none-any.whl (97 kB)\n",
      "Collecting geopy\n",
      "  Downloading geopy-2.4.1-py3-none-any.whl (125 kB)\n",
      "Requirement already satisfied: certifi>=2017.4.17 in c:\\users\\annaz\\anaconda3\\lib\\site-packages (from requests) (2021.10.8)\n",
      "Requirement already satisfied: urllib3<1.27,>=1.21.1 in c:\\users\\annaz\\anaconda3\\lib\\site-packages (from requests) (1.26.9)\n",
      "Requirement already satisfied: idna<4,>=2.5 in c:\\users\\annaz\\anaconda3\\lib\\site-packages (from requests) (3.3)\n",
      "Requirement already satisfied: charset-normalizer~=2.0.0 in c:\\users\\annaz\\anaconda3\\lib\\site-packages (from requests) (2.0.4)\n",
      "Requirement already satisfied: soupsieve>1.2 in c:\\users\\annaz\\anaconda3\\lib\\site-packages (from beautifulsoup4) (2.3.1)\n",
      "Requirement already satisfied: jinja2>=2.9 in c:\\users\\annaz\\anaconda3\\lib\\site-packages (from folium) (2.11.3)\n",
      "Requirement already satisfied: numpy in c:\\users\\annaz\\anaconda3\\lib\\site-packages (from folium) (1.26.1)\n",
      "Collecting xyzservices\n",
      "  Downloading xyzservices-2023.10.1-py3-none-any.whl (56 kB)\n",
      "Collecting branca>=0.6.0\n",
      "  Downloading branca-0.7.0-py3-none-any.whl (25 kB)\n",
      "Collecting geographiclib<3,>=1.52\n",
      "  Downloading geographiclib-2.0-py3-none-any.whl (40 kB)\n",
      "Requirement already satisfied: MarkupSafe>=0.23 in c:\\users\\annaz\\anaconda3\\lib\\site-packages (from jinja2>=2.9->folium) (2.0.1)\n",
      "Installing collected packages: xyzservices, geographiclib, branca, geopy, folium\n",
      "Successfully installed branca-0.7.0 folium-0.15.1 geographiclib-2.0 geopy-2.4.1 xyzservices-2023.10.1\n",
      "Note: you may need to restart the kernel to use updated packages.\n"
     ]
    }
   ],
   "source": [
    "#pip install requests beautifulsoup4 folium geopy"
   ]
  },
  {
   "cell_type": "code",
   "execution_count": 12,
   "id": "4245a88c",
   "metadata": {},
   "outputs": [],
   "source": [
    "import requests\n",
    "from bs4 import BeautifulSoup\n",
    "from selenium import webdriver\n",
    "from geopy.geocoders import Nominatim\n",
    "import folium\n",
    "import time\n",
    "from IPython.display import display"
   ]
  },
  {
   "cell_type": "markdown",
   "id": "ecf7a908",
   "metadata": {},
   "source": [
    "# Scraping TicketMaster (first 5 concerts, for now)"
   ]
  },
  {
   "cell_type": "code",
   "execution_count": 9,
   "id": "f6568bf3",
   "metadata": {
    "scrolled": false
   },
   "outputs": [
    {
     "name": "stderr",
     "output_type": "stream",
     "text": [
      "C:\\Users\\annaz\\AppData\\Local\\Temp\\ipykernel_88904\\640770462.py:10: DeprecationWarning: executable_path has been deprecated, please pass in a Service object\n",
      "  driver = webdriver.Chrome(webdriver_path)\n"
     ]
    },
    {
     "name": "stdout",
     "output_type": "stream",
     "text": [
      "{'title': 'DJ SNAKE', 'location': 'ACCOR ARENA, PARIS', 'date': '10 mai 2025'}\n",
      "{'title': 'KAROL G', 'location': 'ACCOR ARENA, PARIS', 'date': '22 juin 2024'}\n",
      "{'title': 'KAROL G', 'location': 'ACCOR ARENA, PARIS', 'date': '22 juin 2024'}\n",
      "{'title': 'DOJA CAT', 'location': 'ACCOR ARENA, PARIS', 'date': '21 juin 2024'}\n",
      "{'title': 'PACKAGE DOJA CAT', 'location': 'ACCOR ARENA, PARIS', 'date': '21 juin 2024'}\n"
     ]
    }
   ],
   "source": [
    "# Path to your WebDriver (e.g., ChromeDriver)\n",
    "webdriver_path = 'C:/Users/annaz/Downloads/Downloads/chromedriver-win64/chromedriver-win64/chromedriver.exe'\n",
    "\n",
    "\n",
    "# Initialize a Selenium WebDriver\n",
    "driver = webdriver.Chrome(webdriver_path)\n",
    "\n",
    "# Go to the Ticketmaster Paris page\n",
    "driver.get('https://www.ticketmaster.fr/fr/paris')\n",
    "time.sleep(5)  \n",
    "\n",
    "# Get the page source and close the browser\n",
    "html = driver.page_source\n",
    "driver.quit()\n",
    "\n",
    "# Parse the page with BeautifulSoup\n",
    "soup = BeautifulSoup(html, 'html.parser')\n",
    "\n",
    "concerts = []\n",
    "for i in range(5):\n",
    "    event = soup.find('li', id=f'event-result-{i}')\n",
    "    if event:\n",
    "        title = event.find('h3', class_='event-result-title').get_text(strip=True)\n",
    "        date = event.find('time', itemprop='startDate').get_text(strip=True)\n",
    "\n",
    "        # Extract the arena name\n",
    "        arena = event.find('span', itemprop='name').get_text(strip=True) if event.find('span', itemprop='name') else \"Unknown Arena\"\n",
    "\n",
    "        # Extract the city location\n",
    "        city_location = event.find('span', itemprop='addressLocality').get_text(strip=True) if event.find('span', itemprop='addressLocality') else \"Unknown City\"\n",
    "\n",
    "        location = f\"{arena}, {city_location}\"\n",
    "        concerts.append({\"title\": title, \"location\": location, \"date\": date})\n",
    "\n",
    "\n",
    "# Print the concert information\n",
    "for concert in concerts:\n",
    "    print(concert)\n"
   ]
  },
  {
   "cell_type": "markdown",
   "id": "14dcbaa1",
   "metadata": {},
   "source": [
    "We get those 5 concerts, they are all located at ACCOR ARENA, PARIS."
   ]
  },
  {
   "cell_type": "markdown",
   "id": "e8b4841e",
   "metadata": {},
   "source": [
    "# Adding pins for each concert on the map"
   ]
  },
  {
   "cell_type": "code",
   "execution_count": 18,
   "id": "47fb1b72",
   "metadata": {},
   "outputs": [
    {
     "data": {
      "text/html": [
       "<div style=\"width:100%;\"><div style=\"position:relative;width:100%;height:0;padding-bottom:60%;\"><span style=\"color:#565656\">Make this Notebook Trusted to load map: File -> Trust Notebook</span><iframe srcdoc=\"&lt;!DOCTYPE html&gt;\n",
       "&lt;html&gt;\n",
       "&lt;head&gt;\n",
       "    \n",
       "    &lt;meta http-equiv=&quot;content-type&quot; content=&quot;text/html; charset=UTF-8&quot; /&gt;\n",
       "    \n",
       "        &lt;script&gt;\n",
       "            L_NO_TOUCH = false;\n",
       "            L_DISABLE_3D = false;\n",
       "        &lt;/script&gt;\n",
       "    \n",
       "    &lt;style&gt;html, body {width: 100%;height: 100%;margin: 0;padding: 0;}&lt;/style&gt;\n",
       "    &lt;style&gt;#map {position:absolute;top:0;bottom:0;right:0;left:0;}&lt;/style&gt;\n",
       "    &lt;script src=&quot;https://cdn.jsdelivr.net/npm/leaflet@1.9.3/dist/leaflet.js&quot;&gt;&lt;/script&gt;\n",
       "    &lt;script src=&quot;https://code.jquery.com/jquery-3.7.1.min.js&quot;&gt;&lt;/script&gt;\n",
       "    &lt;script src=&quot;https://cdn.jsdelivr.net/npm/bootstrap@5.2.2/dist/js/bootstrap.bundle.min.js&quot;&gt;&lt;/script&gt;\n",
       "    &lt;script src=&quot;https://cdnjs.cloudflare.com/ajax/libs/Leaflet.awesome-markers/2.0.2/leaflet.awesome-markers.js&quot;&gt;&lt;/script&gt;\n",
       "    &lt;link rel=&quot;stylesheet&quot; href=&quot;https://cdn.jsdelivr.net/npm/leaflet@1.9.3/dist/leaflet.css&quot;/&gt;\n",
       "    &lt;link rel=&quot;stylesheet&quot; href=&quot;https://cdn.jsdelivr.net/npm/bootstrap@5.2.2/dist/css/bootstrap.min.css&quot;/&gt;\n",
       "    &lt;link rel=&quot;stylesheet&quot; href=&quot;https://netdna.bootstrapcdn.com/bootstrap/3.0.0/css/bootstrap.min.css&quot;/&gt;\n",
       "    &lt;link rel=&quot;stylesheet&quot; href=&quot;https://cdn.jsdelivr.net/npm/@fortawesome/fontawesome-free@6.2.0/css/all.min.css&quot;/&gt;\n",
       "    &lt;link rel=&quot;stylesheet&quot; href=&quot;https://cdnjs.cloudflare.com/ajax/libs/Leaflet.awesome-markers/2.0.2/leaflet.awesome-markers.css&quot;/&gt;\n",
       "    &lt;link rel=&quot;stylesheet&quot; href=&quot;https://cdn.jsdelivr.net/gh/python-visualization/folium/folium/templates/leaflet.awesome.rotate.min.css&quot;/&gt;\n",
       "    \n",
       "            &lt;meta name=&quot;viewport&quot; content=&quot;width=device-width,\n",
       "                initial-scale=1.0, maximum-scale=1.0, user-scalable=no&quot; /&gt;\n",
       "            &lt;style&gt;\n",
       "                #map_587a14416fedcf25bb19c187dc3b985b {\n",
       "                    position: relative;\n",
       "                    width: 100.0%;\n",
       "                    height: 100.0%;\n",
       "                    left: 0.0%;\n",
       "                    top: 0.0%;\n",
       "                }\n",
       "                .leaflet-container { font-size: 1rem; }\n",
       "            &lt;/style&gt;\n",
       "        \n",
       "&lt;/head&gt;\n",
       "&lt;body&gt;\n",
       "    \n",
       "    \n",
       "            &lt;div class=&quot;folium-map&quot; id=&quot;map_587a14416fedcf25bb19c187dc3b985b&quot; &gt;&lt;/div&gt;\n",
       "        \n",
       "&lt;/body&gt;\n",
       "&lt;script&gt;\n",
       "    \n",
       "    \n",
       "            var map_587a14416fedcf25bb19c187dc3b985b = L.map(\n",
       "                &quot;map_587a14416fedcf25bb19c187dc3b985b&quot;,\n",
       "                {\n",
       "                    center: [48.8566, 2.3522],\n",
       "                    crs: L.CRS.EPSG3857,\n",
       "                    zoom: 12,\n",
       "                    zoomControl: true,\n",
       "                    preferCanvas: false,\n",
       "                }\n",
       "            );\n",
       "\n",
       "            \n",
       "\n",
       "        \n",
       "    \n",
       "            var tile_layer_947747a216cd65fb97115c5cb19e93e5 = L.tileLayer(\n",
       "                &quot;https://tile.openstreetmap.org/{z}/{x}/{y}.png&quot;,\n",
       "                {&quot;attribution&quot;: &quot;\\u0026copy; \\u003ca href=\\&quot;https://www.openstreetmap.org/copyright\\&quot;\\u003eOpenStreetMap\\u003c/a\\u003e contributors&quot;, &quot;detectRetina&quot;: false, &quot;maxNativeZoom&quot;: 19, &quot;maxZoom&quot;: 19, &quot;minZoom&quot;: 0, &quot;noWrap&quot;: false, &quot;opacity&quot;: 1, &quot;subdomains&quot;: &quot;abc&quot;, &quot;tms&quot;: false}\n",
       "            );\n",
       "        \n",
       "    \n",
       "            tile_layer_947747a216cd65fb97115c5cb19e93e5.addTo(map_587a14416fedcf25bb19c187dc3b985b);\n",
       "        \n",
       "    \n",
       "            var marker_6699ea95aff09fb5de9a7db9db1cf044 = L.marker(\n",
       "                [48.83870845, 2.3787666192264645],\n",
       "                {}\n",
       "            ).addTo(map_587a14416fedcf25bb19c187dc3b985b);\n",
       "        \n",
       "    \n",
       "        var popup_044321a8e002b3d8dfbba0e8967ff0ec = L.popup({&quot;maxWidth&quot;: &quot;100%&quot;});\n",
       "\n",
       "        \n",
       "            \n",
       "                var html_789f210b40a99d8bd1a3192b5d409966 = $(`&lt;div id=&quot;html_789f210b40a99d8bd1a3192b5d409966&quot; style=&quot;width: 100.0%; height: 100.0%;&quot;&gt;&lt;ul&gt;&lt;li&gt;DJ SNAKE - 10 mai 2025&lt;/li&gt;&lt;li&gt;KAROL G - 22 juin 2024&lt;/li&gt;&lt;li&gt;KAROL G - 22 juin 2024&lt;/li&gt;&lt;li&gt;DOJA CAT - 21 juin 2024&lt;/li&gt;&lt;li&gt;PACKAGE DOJA CAT - 21 juin 2024&lt;/li&gt;&lt;li&gt;DOJA CAT - 21 juin 2024&lt;/li&gt;&lt;li&gt;SLIPKNOT - 12 décembre 2024&lt;/li&gt;&lt;li&gt;SLIPKNOT - 12 décembre 2024&lt;/li&gt;&lt;li&gt;THE SMASHING PUMPKINS - 16 juin 2024&lt;/li&gt;&lt;li&gt;THE SMASHING PUMPKINS VIP PACKAGES - 16 juin 2024&lt;/li&gt;&lt;/ul&gt;&lt;/div&gt;`)[0];\n",
       "                popup_044321a8e002b3d8dfbba0e8967ff0ec.setContent(html_789f210b40a99d8bd1a3192b5d409966);\n",
       "            \n",
       "        \n",
       "\n",
       "        marker_6699ea95aff09fb5de9a7db9db1cf044.bindPopup(popup_044321a8e002b3d8dfbba0e8967ff0ec)\n",
       "        ;\n",
       "\n",
       "        \n",
       "    \n",
       "    \n",
       "            marker_6699ea95aff09fb5de9a7db9db1cf044.bindTooltip(\n",
       "                `&lt;div&gt;\n",
       "                     Concerts at this location\n",
       "                 &lt;/div&gt;`,\n",
       "                {&quot;sticky&quot;: true}\n",
       "            );\n",
       "        \n",
       "&lt;/script&gt;\n",
       "&lt;/html&gt;\" style=\"position:absolute;width:100%;height:100%;left:0;top:0;border:none !important;\" allowfullscreen webkitallowfullscreen mozallowfullscreen></iframe></div></div>"
      ],
      "text/plain": [
       "<folium.folium.Map at 0x1b2838a1b80>"
      ]
     },
     "metadata": {},
     "output_type": "display_data"
    }
   ],
   "source": [
    "def geocode_location(location):\n",
    "    geolocator = Nominatim(user_agent=\"geoapiExercises\")\n",
    "    try:\n",
    "        loc = geolocator.geocode(location)\n",
    "        return (loc.latitude, loc.longitude)\n",
    "    except:\n",
    "        return None\n",
    "\n",
    "# Geocode each concert location\n",
    "for concert in concerts:\n",
    "    coords = geocode_location(concert['location'])\n",
    "    if coords:\n",
    "        concert['coords'] = coords\n",
    "    else:\n",
    "        concert['coords'] = (0, 0)  # Default coords, adjust as necessary\n",
    "    time.sleep(1)  # To avoid hitting request limits on the geocoding API\n",
    "\n",
    "# Create a map and add markers\n",
    "map = folium.Map(location=[48.8566, 2.3522], zoom_start=12)  # Centered on Paris\n",
    "\n",
    "# Group concerts by coordinates\n",
    "grouped_concerts = {}\n",
    "for concert in concerts:\n",
    "    coords = concert['coords']\n",
    "    if coords in grouped_concerts:\n",
    "        grouped_concerts[coords].append(concert)\n",
    "    else:\n",
    "        grouped_concerts[coords] = [concert]\n",
    "\n",
    "# Add markers for grouped concerts\n",
    "for coords, concerts_at_location in grouped_concerts.items():\n",
    "    popup_content = \"<ul>\"\n",
    "    for concert in concerts_at_location:\n",
    "        popup_content += f\"<li>{concert['title']} - {concert['date']}</li>\"\n",
    "    popup_content += \"</ul>\"\n",
    "\n",
    "    folium.Marker(\n",
    "        location=coords,\n",
    "        popup=popup_content,\n",
    "        tooltip=\"Concerts at this location\"\n",
    "    ).add_to(map)\n",
    "\n",
    "display(map)\n"
   ]
  },
  {
   "cell_type": "markdown",
   "id": "4083592a",
   "metadata": {},
   "source": [
    "For now, as the first 5 concerts are in ACCOR ARENA, there is only one pin but we made sure to made a toggle list of all the concert of the location, with the corresponding dates."
   ]
  },
  {
   "cell_type": "markdown",
   "id": "ade7fa20",
   "metadata": {},
   "source": [
    "# Scraping Wikipedia to get additional information about the artists"
   ]
  },
  {
   "cell_type": "code",
   "execution_count": 34,
   "id": "5f90e67c",
   "metadata": {},
   "outputs": [
    {
     "name": "stderr",
     "output_type": "stream",
     "text": [
      "C:\\Users\\annaz\\AppData\\Local\\Temp\\ipykernel_88904\\2695700670.py:3: DeprecationWarning: executable_path has been deprecated, please pass in a Service object\n",
      "  driver = webdriver.Chrome(webdriver_path)\n"
     ]
    },
    {
     "name": "stdout",
     "output_type": "stream",
     "text": [
      "Error: name 'country' is not defined\n",
      "No information found for DJ Snake\n"
     ]
    }
   ],
   "source": [
    "def get_artist_info(artist_name):\n",
    "    webdriver_path = 'C:/Users/annaz/Downloads/Downloads/chromedriver-win64/chromedriver-win64/chromedriver.exe'\n",
    "    driver = webdriver.Chrome(webdriver_path)\n",
    "\n",
    "    try:\n",
    "        # Search for the artist on Wikipedia\n",
    "        search_url = f'https://en.wikipedia.org/wiki/{artist_name.replace(\" \", \"_\")}'\n",
    "        driver.get(search_url)\n",
    "\n",
    "        # Wait for the page to load (you may need to adjust the wait time)\n",
    "        driver.implicitly_wait(5)\n",
    "\n",
    "        # Extract information using BeautifulSoup\n",
    "        soup = BeautifulSoup(driver.page_source, 'html.parser')\n",
    "\n",
    "        # Extracting information from the infobox\n",
    "        infobox = soup.find('table', {'class': 'infobox'})\n",
    "\n",
    "        # Extract genre, country of origin, and other relevant information\n",
    "        genre = infobox.find('th', text='Genres').find_next('td').text.strip() if infobox and infobox.find('th', text='Genres') else 'N/A'\n",
    "        country_of_origin = soup.find('span', {'class': 'wd_p27'}).text.strip() if soup.find('span', {'class': 'wd_p27'}) else 'N/A'\n",
    "        birth_date = infobox.find('th', text='Born').find_next('td').text.strip() if infobox and infobox.find('th', text='Born') else 'N/A'\n",
    "\n",
    "        # Additional information you may want to extract\n",
    "        top_song = soup.find('span', {'class': 'wd_p800'}).text.strip() if soup.find('span', {'class': 'wd_p800'}) else 'N/A'\n",
    "\n",
    "        return {\n",
    "            'genre': genre,\n",
    "            'country' : country,\n",
    "            'country_of_origin': country_of_origin,\n",
    "            'birth_date': birth_date,\n",
    "            'top_song': top_song,\n",
    "        }\n",
    "    except Exception as e:\n",
    "        print(f\"Error: {e}\")\n",
    "        return None\n",
    "    finally:\n",
    "        driver.quit()\n",
    "\n",
    "# Example usage\n",
    "artist_name = 'DJ Snake'\n",
    "artist_info = get_artist_info(artist_name)\n",
    "\n",
    "if artist_info:\n",
    "    print(f\"Information for {artist_name}:\")\n",
    "    print(f\"Genre: {artist_info['genre']}\")\n",
    "    print(f\"Country: {artist_info['country']}\")\n",
    "    print(f\"Country of Origin: {artist_info['country_of_origin']}\")\n",
    "    print(f\"Date of Birth: {artist_info['birth_date']}\")\n",
    "    print(f\"Top Songs: {artist_info['top_song']}\")\n",
    "else:\n",
    "    print(f\"No information found for {artist_name}\")\n"
   ]
  },
  {
   "cell_type": "markdown",
   "id": "0ef9c3f8",
   "metadata": {},
   "source": [
    "# Incorporating those information for artists that have upcoming concerts"
   ]
  },
  {
   "cell_type": "code",
   "execution_count": 28,
   "id": "9ed3dcf7",
   "metadata": {},
   "outputs": [
    {
     "name": "stderr",
     "output_type": "stream",
     "text": [
      "C:\\Users\\annaz\\AppData\\Local\\Temp\\ipykernel_88904\\1718916294.py:45: DeprecationWarning: executable_path has been deprecated, please pass in a Service object\n",
      "  driver = webdriver.Chrome(webdriver_path)\n"
     ]
    },
    {
     "name": "stdout",
     "output_type": "stream",
     "text": [
      "{'title': 'DJ SNAKE', 'location': 'ACCOR ARENA, PARIS', 'date': '10 mai 2025'}\n",
      "{'title': 'KAROL G', 'location': 'ACCOR ARENA, PARIS', 'date': '22 juin 2024'}\n",
      "{'title': 'KAROL G', 'location': 'ACCOR ARENA, PARIS', 'date': '22 juin 2024'}\n",
      "{'title': 'DOJA CAT', 'location': 'ACCOR ARENA, PARIS', 'date': '21 juin 2024'}\n",
      "{'title': 'PACKAGE DOJA CAT', 'location': 'ACCOR ARENA, PARIS', 'date': '21 juin 2024'}\n"
     ]
    },
    {
     "name": "stderr",
     "output_type": "stream",
     "text": [
      "C:\\Users\\annaz\\AppData\\Local\\Temp\\ipykernel_88904\\1718916294.py:4: DeprecationWarning: executable_path has been deprecated, please pass in a Service object\n",
      "  driver = webdriver.Chrome(webdriver_path)\n"
     ]
    },
    {
     "name": "stdout",
     "output_type": "stream",
     "text": [
      "Information for DJ SNAKE:\n",
      "Genre: N/A\n",
      "Country of Origin: N/A\n",
      "Date of Birth: N/A\n",
      "Top Songs: N/A\n",
      "Information for KAROL G:\n",
      "Genre: N/A\n",
      "Country of Origin: N/A\n",
      "Date of Birth: N/A\n",
      "Top Songs: N/A\n",
      "Information for KAROL G:\n",
      "Genre: N/A\n",
      "Country of Origin: N/A\n",
      "Date of Birth: N/A\n",
      "Top Songs: N/A\n",
      "Information for DOJA CAT:\n",
      "Genre: N/A\n",
      "Country of Origin: N/A\n",
      "Date of Birth: N/A\n",
      "Top Songs: N/A\n",
      "Information for PACKAGE DOJA CAT:\n",
      "Genre: N/A\n",
      "Country of Origin: N/A\n",
      "Date of Birth: N/A\n",
      "Top Songs: N/A\n"
     ]
    }
   ],
   "source": [
    "# Function to get artist information from Wikipedia\n",
    "def get_artist_info(artist_name):\n",
    "    webdriver_path = 'C:/Users/annaz/Downloads/Downloads/chromedriver-win64/chromedriver-win64/chromedriver.exe'\n",
    "    driver = webdriver.Chrome(webdriver_path)\n",
    "\n",
    "    try:\n",
    "        # Search for the artist on Wikipedia\n",
    "        search_url = f'https://en.wikipedia.org/wiki/{artist_name.replace(\" \", \"_\")}'\n",
    "        driver.get(search_url)\n",
    "\n",
    "        # Wait for the page to load (you may need to adjust the wait time)\n",
    "        driver.implicitly_wait(5)\n",
    "\n",
    "        # Extract information using BeautifulSoup\n",
    "        soup = BeautifulSoup(driver.page_source, 'html.parser')\n",
    "\n",
    "        # Extracting information from the infobox\n",
    "        infobox = soup.find('table', {'class': 'infobox'})\n",
    "\n",
    "        # Extract genre, country of origin, and other relevant information\n",
    "        genre = infobox.find('th', text='Genres').find_next('td').text.strip() if infobox and infobox.find('th', text='Genres') else 'N/A'\n",
    "        country_of_origin = soup.find('span', {'class': 'wd_p27'}).text.strip() if soup.find('span', {'class': 'wd_p27'}) else 'N/A'\n",
    "        birth_date = infobox.find('th', text='Born').find_next('td').text.strip() if infobox and infobox.find('th', text='Born') else 'N/A'\n",
    "\n",
    "        # Additional information you may want to extract\n",
    "        top_song = soup.find('span', {'class': 'wd_p800'}).text.strip() if soup.find('span', {'class': 'wd_p800'}) else 'N/A'\n",
    "\n",
    "        return {\n",
    "            'genre': genre,\n",
    "            'country_of_origin': country_of_origin,\n",
    "            'birth_date': birth_date,\n",
    "            'top_song': top_song,\n",
    "        }\n",
    "    except Exception as e:\n",
    "        print(f\"Error: {e}\")\n",
    "        return None\n",
    "    finally:\n",
    "        driver.quit()\n",
    "        \n",
    "        \n",
    "# Path to your WebDriver (e.g., ChromeDriver)\n",
    "webdriver_path = 'C:/Users/annaz/Downloads/Downloads/chromedriver-win64/chromedriver-win64/chromedriver.exe'\n",
    "\n",
    "# Initialize a Selenium WebDriver\n",
    "driver = webdriver.Chrome(webdriver_path)\n",
    "\n",
    "# Go to the Ticketmaster Paris page\n",
    "driver.get('https://www.ticketmaster.fr/fr/paris')\n",
    "time.sleep(5)\n",
    "\n",
    "# Get the page source and close the browser\n",
    "html = driver.page_source\n",
    "driver.quit()\n",
    "\n",
    "# Parse the page with BeautifulSoup\n",
    "soup = BeautifulSoup(html, 'html.parser')\n",
    "\n",
    "concerts = []\n",
    "for i in range(5):\n",
    "    event = soup.find('li', id=f'event-result-{i}')\n",
    "    if event:\n",
    "        title = event.find('h3', class_='event-result-title').get_text(strip=True)\n",
    "        date = event.find('time', itemprop='startDate').get_text(strip=True)\n",
    "\n",
    "        # Extract the arena name\n",
    "        arena = event.find('span', itemprop='name').get_text(strip=True) if event.find('span', itemprop='name') else \"Unknown Arena\"\n",
    "\n",
    "        # Extract the city location\n",
    "        city_location = event.find('span', itemprop='addressLocality').get_text(strip=True) if event.find('span', itemprop='addressLocality') else \"Unknown City\"\n",
    "\n",
    "        location = f\"{arena}, {city_location}\"\n",
    "        concerts.append({\"title\": title, \"location\": location, \"date\": date})\n",
    "\n",
    "# Print the concert information\n",
    "for concert in concerts:\n",
    "    print(concert)\n",
    "\n",
    "def geocode_location(location):\n",
    "    geolocator = Nominatim(user_agent=\"geoapiExercises\")\n",
    "    try:\n",
    "        loc = geolocator.geocode(location)\n",
    "        return (loc.latitude, loc.longitude)\n",
    "    except:\n",
    "        return None\n",
    "\n",
    "# Geocode each concert location\n",
    "for concert in concerts:\n",
    "    coords = geocode_location(concert['location'])\n",
    "    if coords:\n",
    "        concert['coords'] = coords\n",
    "    else:\n",
    "        concert['coords'] = (0, 0)  # Default coords, adjust as necessary\n",
    "    time.sleep(1)  # To avoid hitting request limits on the geocoding API\n",
    "\n",
    "# Get artist information from Wikipedia\n",
    "for concert in concerts:\n",
    "    artist_name = concert['title'].split('-')[0].strip()\n",
    "    artist_info = get_artist_info(artist_name)\n",
    "\n",
    "    if artist_info:\n",
    "        print(f\"Information for {artist_name}:\")\n",
    "        print(f\"Genre: {artist_info['genre']}\")\n",
    "        print(f\"Country of Origin: {artist_info['country_of_origin']}\")\n",
    "        print(f\"Date of Birth: {artist_info['birth_date']}\")\n",
    "        print(f\"Top Songs: {artist_info['top_song']}\")\n"
   ]
  },
  {
   "cell_type": "markdown",
   "id": "ec999eb2",
   "metadata": {},
   "source": [
    "Next Step is to fix bugs and display those information on the map."
   ]
  },
  {
   "cell_type": "code",
   "execution_count": null,
   "id": "06ec7e67",
   "metadata": {},
   "outputs": [],
   "source": []
  }
 ],
 "metadata": {
  "kernelspec": {
   "display_name": "Python 3 (ipykernel)",
   "language": "python",
   "name": "python3"
  },
  "language_info": {
   "codemirror_mode": {
    "name": "ipython",
    "version": 3
   },
   "file_extension": ".py",
   "mimetype": "text/x-python",
   "name": "python",
   "nbconvert_exporter": "python",
   "pygments_lexer": "ipython3",
   "version": "3.9.12"
  }
 },
 "nbformat": 4,
 "nbformat_minor": 5
}
